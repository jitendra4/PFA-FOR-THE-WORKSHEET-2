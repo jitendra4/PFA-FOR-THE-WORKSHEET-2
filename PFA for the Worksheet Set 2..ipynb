{
 "cells": [
  {
   "cell_type": "markdown",
   "metadata": {},
   "source": [
    "# Machine learning Assignment"
   ]
  },
  {
   "cell_type": "code",
   "execution_count": 1,
   "metadata": {},
   "outputs": [],
   "source": [
    "#1.Movie Recommendation systems are an example of:\n",
    "#Ans.a) 2 Only"
   ]
  },
  {
   "cell_type": "code",
   "execution_count": 2,
   "metadata": {},
   "outputs": [],
   "source": [
    "#2.Sentiment Analysis is an example of:\n",
    "#Ans.d)1, 2 and 4\n"
   ]
  },
  {
   "cell_type": "code",
   "execution_count": 3,
   "metadata": {},
   "outputs": [],
   "source": [
    "#3.Can decision trees be used for performing clustering?\n",
    "#Ans.a) True"
   ]
  },
  {
   "cell_type": "code",
   "execution_count": 4,
   "metadata": {},
   "outputs": [],
   "source": [
    "#4.Which of the following is the most appropriate strategy for data cleaning before performing clustering analysis, given less than desirable number of data points:\n",
    "#Ans.a) 1 only"
   ]
  },
  {
   "cell_type": "code",
   "execution_count": 5,
   "metadata": {},
   "outputs": [],
   "source": [
    "#5.What is the minimum no. of variables/ features required to perform clustering?\n",
    "#Ans.b) 1"
   ]
  },
  {
   "cell_type": "code",
   "execution_count": 6,
   "metadata": {},
   "outputs": [],
   "source": [
    "#6.For two runs of K-Mean clustering is it expected to get same clustering results?\n",
    "#Ans.b) No"
   ]
  },
  {
   "cell_type": "code",
   "execution_count": 12,
   "metadata": {},
   "outputs": [],
   "source": [
    "#7.Is it possible that Assignment of observations to clusters does not change between successive iterations in K-Means?\n",
    "#Ans.a) Yes"
   ]
  },
  {
   "cell_type": "code",
   "execution_count": 8,
   "metadata": {},
   "outputs": [],
   "source": [
    "#8.Which of the following can act as possible termination conditions in K-Means?\n",
    "#Ans.d) All of the above"
   ]
  },
  {
   "cell_type": "code",
   "execution_count": 9,
   "metadata": {},
   "outputs": [],
   "source": [
    "#9.Which of the following can act as possible termination conditions in K-Means?\n",
    "#Ans.a) 1 only"
   ]
  },
  {
   "cell_type": "code",
   "execution_count": 10,
   "metadata": {},
   "outputs": [],
   "source": [
    "#10.Which of the following algorithms is most sensitive to outliers?\n",
    "#Ans.a) K-means clustering algorithm"
   ]
  },
  {
   "cell_type": "code",
   "execution_count": 11,
   "metadata": {},
   "outputs": [],
   "source": [
    "#11.. How can Clustering (Unsupervised Learning) be used to improve the accuracy of Linear Regression model (Supervised Learning):\n",
    "#Ans.d) All of the above"
   ]
  },
  {
   "cell_type": "code",
   "execution_count": 13,
   "metadata": {},
   "outputs": [],
   "source": [
    "#12.What could be the possible reason(s) for producing two different dendrograms using agglomerative clustering algorithms for the same dataset?\n",
    "#Ans.d) All of the above"
   ]
  },
  {
   "cell_type": "code",
   "execution_count": 82,
   "metadata": {},
   "outputs": [],
   "source": [
    "#13.. Is K sensitive to outliers?\n",
    "#Ans.The K-means clustering algorithm is sensitive to outliers, because a mean is easily influenced by extreme values. K-medoids clustering is a variant of K-means that is more robust to noises and outliers. ... The group of points in the right form a cluster, while the rightmost point is an outlier."
   ]
  },
  {
   "cell_type": "code",
   "execution_count": 83,
   "metadata": {},
   "outputs": [],
   "source": [
    "#14.Why is K means better?\n",
    "#Ans.Other clustering algorithms with better features tend to be more expensive. In this case, k-means becomes a great solution for pre-clustering, reducing the space into disjoint smaller sub-spaces where other clustering algorithms can be applied. K-means is the simplest. ... Plus, most people don't need quality clusters."
   ]
  },
  {
   "cell_type": "code",
   "execution_count": 84,
   "metadata": {},
   "outputs": [],
   "source": [
    "#15.Is K means a deterministic algorithm?\n",
    "#Ans.The basic k-means clustering is based on a non-deterministic algorithm. This means that running the algorithm several times on the same data, could give different results. However, to ensure consistent results, FCS Express performs k-means clustering using a deterministic method."
   ]
  },
  {
   "cell_type": "code",
   "execution_count": null,
   "metadata": {},
   "outputs": [],
   "source": []
  },
  {
   "cell_type": "markdown",
   "metadata": {},
   "source": [
    "# SQL WORKSHEET 2"
   ]
  },
  {
   "cell_type": "code",
   "execution_count": 33,
   "metadata": {},
   "outputs": [],
   "source": [
    "#1.Which of the following constraint requires that there should not be duplicate entries?\n",
    "#Ans.D) Unique"
   ]
  },
  {
   "cell_type": "code",
   "execution_count": 34,
   "metadata": {},
   "outputs": [],
   "source": [
    "#2.Which of the following constraint allows null values in a column?\n",
    "#Ans.C) Null"
   ]
  },
  {
   "cell_type": "code",
   "execution_count": 35,
   "metadata": {},
   "outputs": [],
   "source": [
    "#3.Which of the following statements are true regarding Primary Key?\n",
    "#Ans.A) Each entry in the primary key uniquely identifies each entry or row in the table"
   ]
  },
  {
   "cell_type": "code",
   "execution_count": 36,
   "metadata": {},
   "outputs": [],
   "source": [
    "#4.Which of the following statements are true regarding Unique Key?\n",
    "#Ans.C) Multiple columns can make a single unique key together"
   ]
  },
  {
   "cell_type": "code",
   "execution_count": 39,
   "metadata": {},
   "outputs": [],
   "source": [
    "#5.Which of the following is/are example of referential constraint?\n",
    "#Ans.B) Foreign Key"
   ]
  },
  {
   "cell_type": "code",
   "execution_count": 40,
   "metadata": {},
   "outputs": [],
   "source": [
    "#6.How many foreign keys are there in the Supplier table?\n",
    "#Ans.D) 1"
   ]
  },
  {
   "cell_type": "code",
   "execution_count": 41,
   "metadata": {},
   "outputs": [],
   "source": [
    "#7.The type of relationship between Supplier table and Product table is:\n",
    "#Ans.one to many"
   ]
  },
  {
   "cell_type": "code",
   "execution_count": 42,
   "metadata": {},
   "outputs": [],
   "source": [
    "#8.The type of relationship between Order table and Headquarter table is:\n",
    "#Ans.C) one to one"
   ]
  },
  {
   "cell_type": "code",
   "execution_count": 43,
   "metadata": {},
   "outputs": [],
   "source": [
    "#9.Which of the following is a foreign key in Delivery table?\n",
    "#Ans.A) delivery id"
   ]
  },
  {
   "cell_type": "code",
   "execution_count": 44,
   "metadata": {},
   "outputs": [],
   "source": [
    "#10.The number of foreign keys in order details is:\n",
    "#Ans.B) 1"
   ]
  },
  {
   "cell_type": "code",
   "execution_count": 45,
   "metadata": {},
   "outputs": [],
   "source": [
    "#11.The type of relationship between Order Detail table and Product table is:\n",
    "#Ans.D) many to many"
   ]
  },
  {
   "cell_type": "code",
   "execution_count": 46,
   "metadata": {},
   "outputs": [],
   "source": [
    "#12.DDL statements perform operation on which of the following database objects?\n",
    "#Ans.C) Table"
   ]
  },
  {
   "cell_type": "code",
   "execution_count": 47,
   "metadata": {},
   "outputs": [],
   "source": [
    "#13.Which of the following statement is used to enter rows in a table?\n",
    "#Ans.A) Insert in to"
   ]
  },
  {
   "cell_type": "code",
   "execution_count": 48,
   "metadata": {},
   "outputs": [],
   "source": [
    "#14.Which of the following is/are entity constraints in SQL?\n",
    "#Ans.B) Unique"
   ]
  },
  {
   "cell_type": "code",
   "execution_count": 49,
   "metadata": {},
   "outputs": [],
   "source": [
    "#15.Which of the following statements is an example of semantic Constraint?\n",
    "#Ans.Two or more donors can have same blood group"
   ]
  },
  {
   "cell_type": "code",
   "execution_count": null,
   "metadata": {},
   "outputs": [],
   "source": []
  },
  {
   "cell_type": "markdown",
   "metadata": {},
   "source": [
    "# STATISTICS WORKSHEET 2"
   ]
  },
  {
   "cell_type": "code",
   "execution_count": 66,
   "metadata": {},
   "outputs": [],
   "source": [
    "#1.What represent a population parameter?\n",
    "#Ans.C) both"
   ]
  },
  {
   "cell_type": "code",
   "execution_count": 67,
   "metadata": {},
   "outputs": [],
   "source": [
    "#2.What will be median of following set of scores (18,6,12,10,15)?\n",
    "#Ans.C) 12"
   ]
  },
  {
   "cell_type": "code",
   "execution_count": 68,
   "metadata": {},
   "outputs": [],
   "source": [
    "#3.What is standard deviation?\n",
    "#Ans.D) All of the above"
   ]
  },
  {
   "cell_type": "code",
   "execution_count": 69,
   "metadata": {},
   "outputs": [],
   "source": [
    "#4.The intervals should be ______ in a grouped frequency distribution.\n",
    "#Ans.C) Both of these"
   ]
  },
  {
   "cell_type": "code",
   "execution_count": 70,
   "metadata": {},
   "outputs": [],
   "source": [
    "#5.What is the goal of descriptive statistics?\n",
    "#Ans.D) All of these"
   ]
  },
  {
   "cell_type": "code",
   "execution_count": 71,
   "metadata": {},
   "outputs": [],
   "source": [
    "#6.A set of data organized in a participant by variables format is called\n",
    "#Ans.B) Data set"
   ]
  },
  {
   "cell_type": "code",
   "execution_count": 72,
   "metadata": {},
   "outputs": [],
   "source": [
    "#7.In multiple regression,_______ dependent variables are used\n",
    "#Ans.A) 2 or more"
   ]
  },
  {
   "cell_type": "code",
   "execution_count": 73,
   "metadata": {},
   "outputs": [],
   "source": [
    "#8.Which of the following is used when you want to visually examine the relationship between 2 quantitative variables?\n",
    "#Ans.B) Scatterplot"
   ]
  },
  {
   "cell_type": "code",
   "execution_count": 74,
   "metadata": {},
   "outputs": [],
   "source": [
    "#9.Two or more groups means are compared by using\n",
    "#Ans.D) Analysis of variance"
   ]
  },
  {
   "cell_type": "code",
   "execution_count": 75,
   "metadata": {},
   "outputs": [],
   "source": [
    "#10._______is a raw score which has been transformed into standard deviation units?\n",
    "#Ans.A) Z-score"
   ]
  },
  {
   "cell_type": "code",
   "execution_count": 76,
   "metadata": {},
   "outputs": [],
   "source": [
    "#11.______is the value calculated when you want the arithmetic average?\n",
    "#Ans.C) mean"
   ]
  },
  {
   "cell_type": "code",
   "execution_count": 77,
   "metadata": {},
   "outputs": [],
   "source": [
    "#12.Find the mean of these set of number (4,6,7,9,2000000)?\n",
    "#Ans.B) 7"
   ]
  },
  {
   "cell_type": "code",
   "execution_count": 78,
   "metadata": {},
   "outputs": [],
   "source": [
    "#13.______ is a measure of central tendency that takes into account the magnitude of scores?\n",
    "#Ans.C) Median"
   ]
  },
  {
   "cell_type": "code",
   "execution_count": 79,
   "metadata": {},
   "outputs": [],
   "source": [
    "#14.___ focuses on describing or explaining data whereas ______involves going beyond immediate data and making inferences\n",
    "#Ans.A) Descriptive and inferences"
   ]
  },
  {
   "cell_type": "code",
   "execution_count": 80,
   "metadata": {},
   "outputs": [],
   "source": [
    "#15.What is the formula for range?\n",
    "#Ans.D) H-L"
   ]
  },
  {
   "cell_type": "code",
   "execution_count": 81,
   "metadata": {},
   "outputs": [
    {
     "name": "stdout",
     "output_type": "stream",
     "text": [
      "thnakyou\n"
     ]
    }
   ],
   "source": [
    "print(\"thnakyou\")"
   ]
  }
 ],
 "metadata": {
  "kernelspec": {
   "display_name": "Python 3",
   "language": "python",
   "name": "python3"
  },
  "language_info": {
   "codemirror_mode": {
    "name": "ipython",
    "version": 3
   },
   "file_extension": ".py",
   "mimetype": "text/x-python",
   "name": "python",
   "nbconvert_exporter": "python",
   "pygments_lexer": "ipython3",
   "version": "3.8.5"
  }
 },
 "nbformat": 4,
 "nbformat_minor": 4
}
